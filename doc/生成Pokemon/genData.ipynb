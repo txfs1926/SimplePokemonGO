{
 "nbformat": 4,
 "nbformat_minor": 2,
 "metadata": {
  "language_info": {
   "name": "python",
   "codemirror_mode": {
    "name": "ipython",
    "version": 3
   }
  },
  "orig_nbformat": 2,
  "file_extension": ".py",
  "mimetype": "text/x-python",
  "name": "python",
  "npconvert_exporter": "python",
  "pygments_lexer": "ipython3",
  "version": 3
 },
 "cells": [
  {
   "cell_type": "markdown",
   "execution_count": null,
   "metadata": {},
   "outputs": [],
   "source": [
    "# 中国地区宝可梦数据生成器\n",
    "\n",
    "本jupyter notebook用于在中国的一些景点处随机生成一系列宝可梦数据，应用于SimplePokemonGO项目。"
   ]
  },
  {
   "cell_type": "markdown",
   "execution_count": null,
   "metadata": {},
   "outputs": [],
   "source": [
    "首先让我们读取中国景点数据和我们的宝可梦数据库，新添加的宝可梦数据会增加到这个数据库中。读写和处理数据的工具是pandas。"
   ]
  },
  {
   "cell_type": "code",
   "execution_count": 24,
   "metadata": {},
   "outputs": [],
   "source": [
    "import pandas as pd\n",
    "\n",
    "# read scenic spots data \n",
    "df = pd.read_csv('china.csv', index_col=0)\n",
    "# read database\n",
    "db = pd.read_excel('Pokemon.xlsx')"
   ]
  },
  {
   "cell_type": "markdown",
   "execution_count": null,
   "metadata": {},
   "outputs": [],
   "source": [
    "读取完毕后我们可以用head函数简单看看数据长什么样子。"
   ]
  },
  {
   "cell_type": "code",
   "execution_count": 25,
   "metadata": {},
   "outputs": [
    {
     "data": {
      "text/html": "<div>\n<style scoped>\n    .dataframe tbody tr th:only-of-type {\n        vertical-align: middle;\n    }\n\n    .dataframe tbody tr th {\n        vertical-align: top;\n    }\n\n    .dataframe thead th {\n        text-align: right;\n    }\n</style>\n<table border=\"1\" class=\"dataframe\">\n  <thead>\n    <tr style=\"text-align: right;\">\n      <th></th>\n      <th>citys</th>\n      <th>latlong</th>\n      <th>spots</th>\n      <th>provinces</th>\n    </tr>\n  </thead>\n  <tbody>\n    <tr>\n      <th>0</th>\n      <td>张家界</td>\n      <td>110.482434,29.111799</td>\n      <td>天门山国家森林公园</td>\n      <td>湖南</td>\n    </tr>\n    <tr>\n      <th>1</th>\n      <td>张家界</td>\n      <td>110.442167,29.282828</td>\n      <td>张家界国家森林公园</td>\n      <td>湖南</td>\n    </tr>\n    <tr>\n      <th>2</th>\n      <td>衡阳</td>\n      <td>112.864018,27.225530</td>\n      <td>衡山</td>\n      <td>湖南</td>\n    </tr>\n    <tr>\n      <th>3</th>\n      <td>长沙</td>\n      <td>112.937353,28.182849</td>\n      <td>岳麓山</td>\n      <td>湖南</td>\n    </tr>\n    <tr>\n      <th>4</th>\n      <td>岳阳</td>\n      <td>113.129702,29.371903</td>\n      <td>岳阳楼—君山岛景区</td>\n      <td>湖南</td>\n    </tr>\n  </tbody>\n</table>\n</div>",
      "text/plain": "  citys               latlong      spots provinces\n0   张家界  110.482434,29.111799  天门山国家森林公园        湖南\n1   张家界  110.442167,29.282828  张家界国家森林公园        湖南\n2    衡阳  112.864018,27.225530         衡山        湖南\n3    长沙  112.937353,28.182849        岳麓山        湖南\n4    岳阳  113.129702,29.371903  岳阳楼—君山岛景区        湖南"
     },
     "execution_count": 25,
     "metadata": {},
     "output_type": "execute_result"
    }
   ],
   "source": [
    "# show some data\n",
    "df.head(5)"
   ]
  },
  {
   "cell_type": "code",
   "execution_count": 26,
   "metadata": {},
   "outputs": [
    {
     "data": {
      "text/html": "<div>\n<style scoped>\n    .dataframe tbody tr th:only-of-type {\n        vertical-align: middle;\n    }\n\n    .dataframe tbody tr th {\n        vertical-align: top;\n    }\n\n    .dataframe thead th {\n        text-align: right;\n    }\n</style>\n<table border=\"1\" class=\"dataframe\">\n  <thead>\n    <tr style=\"text-align: right;\">\n      <th></th>\n      <th>AddressLine</th>\n      <th>City</th>\n      <th>AdminDivision</th>\n      <th>Country</th>\n      <th>PostCode</th>\n      <th>Latitude</th>\n      <th>Longitude</th>\n      <th>Pokemon</th>\n      <th>Level</th>\n    </tr>\n  </thead>\n  <tbody>\n    <tr>\n      <th>0</th>\n      <td>Tiananmen Square</td>\n      <td>Beijing</td>\n      <td>BJ</td>\n      <td>CN</td>\n      <td>100010</td>\n      <td>39.90733</td>\n      <td>116.39108</td>\n      <td>Pikachu</td>\n      <td>81</td>\n    </tr>\n    <tr>\n      <th>1</th>\n      <td>Summer Palace</td>\n      <td>Beijing</td>\n      <td>BJ</td>\n      <td>CN</td>\n      <td>100087</td>\n      <td>39.99750</td>\n      <td>116.26890</td>\n      <td>Eevee</td>\n      <td>66</td>\n    </tr>\n    <tr>\n      <th>2</th>\n      <td>Fawn Creek Township</td>\n      <td>Kansas</td>\n      <td>KS</td>\n      <td>US</td>\n      <td>30808</td>\n      <td>37.09024</td>\n      <td>-95.70000</td>\n      <td>Charizard</td>\n      <td>88</td>\n    </tr>\n  </tbody>\n</table>\n</div>",
      "text/plain": "           AddressLine     City AdminDivision Country  PostCode  Latitude  \\\n0     Tiananmen Square  Beijing            BJ      CN    100010  39.90733   \n1        Summer Palace  Beijing            BJ      CN    100087  39.99750   \n2  Fawn Creek Township   Kansas            KS      US     30808  37.09024   \n\n   Longitude    Pokemon  Level  \n0  116.39108    Pikachu     81  \n1  116.26890      Eevee     66  \n2  -95.70000  Charizard     88  "
     },
     "execution_count": 26,
     "metadata": {},
     "output_type": "execute_result"
    }
   ],
   "source": [
    "db.head(5)"
   ]
  },
  {
   "cell_type": "markdown",
   "execution_count": null,
   "metadata": {},
   "outputs": [],
   "source": [
    "接下来我们就要生成一些数据，引入一些库后，设置生成宝可梦数据的数目N，在循环中配置每个数据的值，并用append方法添加到数据库即可。"
   ]
  },
  {
   "cell_type": "code",
   "execution_count": 27,
   "metadata": {},
   "outputs": [],
   "source": [
    "import random\n",
    "import pinyin\n",
    "# read pokemon names\n",
    "with open('dex.txt', 'r') as f:\n",
    "    dex = f.readlines()\n",
    "# number of data to generate\n",
    "N = 100\n",
    "for i in range(N):\n",
    "    # create a dict\n",
    "    d = {}\n",
    "    # ramdom sample a data\n",
    "    data = df.sample(1)\n",
    "    # AddressLine\n",
    "    d[db.columns[0]] = data['spots'].item()\n",
    "    # City\n",
    "    d[db.columns[1]] = data['citys'].item()\n",
    "    # AdminDivision\n",
    "    d[db.columns[2]] = pinyin.get_initial(data['provinces'].item(), delimiter=\"\").upper()\n",
    "    # Country\n",
    "    d[db.columns[3]] = 'CN'\n",
    "    # PostCode\n",
    "    d[db.columns[4]] = ''.join([\"{}\".format(random.randint(0, 9)) for num in range(0, 6)])\n",
    "    # Latitude and Longitude\n",
    "    d[db.columns[6]], d[db.columns[5]]= data['latlong'].item().split(',')\n",
    "    # Pokemon\n",
    "    d[db.columns[7]] = random.choice(dex)[:-1].capitalize()\n",
    "    # Level\n",
    "    d[db.columns[8]] = random.randint(1, 100)\n",
    "    # append data to database\n",
    "    db = db.append(d, ignore_index=True)"
   ]
  },
  {
   "cell_type": "markdown",
   "execution_count": 30,
   "metadata": {},
   "outputs": [
    {
     "ename": "SyntaxError",
     "evalue": "invalid character in identifier (<ipython-input-30-db618f907c42>, line 1)",
     "output_type": "error",
     "traceback": [
      "\u001b[1;36m  File \u001b[1;32m\"<ipython-input-30-db618f907c42>\"\u001b[1;36m, line \u001b[1;32m1\u001b[0m\n\u001b[1;33m    再看看我们添加了新的宝可梦数据的数据库。\u001b[0m\n\u001b[1;37m                       ^\u001b[0m\n\u001b[1;31mSyntaxError\u001b[0m\u001b[1;31m:\u001b[0m invalid character in identifier\n"
     ]
    }
   ],
   "source": [
    "再看看我们添加了新的宝可梦数据的数据库。"
   ]
  },
  {
   "cell_type": "code",
   "execution_count": 28,
   "metadata": {},
   "outputs": [
    {
     "data": {
      "text/html": "<div>\n<style scoped>\n    .dataframe tbody tr th:only-of-type {\n        vertical-align: middle;\n    }\n\n    .dataframe tbody tr th {\n        vertical-align: top;\n    }\n\n    .dataframe thead th {\n        text-align: right;\n    }\n</style>\n<table border=\"1\" class=\"dataframe\">\n  <thead>\n    <tr style=\"text-align: right;\">\n      <th></th>\n      <th>AddressLine</th>\n      <th>City</th>\n      <th>AdminDivision</th>\n      <th>Country</th>\n      <th>PostCode</th>\n      <th>Latitude</th>\n      <th>Longitude</th>\n      <th>Pokemon</th>\n      <th>Level</th>\n    </tr>\n  </thead>\n  <tbody>\n    <tr>\n      <th>0</th>\n      <td>Tiananmen Square</td>\n      <td>Beijing</td>\n      <td>BJ</td>\n      <td>CN</td>\n      <td>100010</td>\n      <td>39.9073</td>\n      <td>116.391</td>\n      <td>Pikachu</td>\n      <td>81</td>\n    </tr>\n    <tr>\n      <th>1</th>\n      <td>Summer Palace</td>\n      <td>Beijing</td>\n      <td>BJ</td>\n      <td>CN</td>\n      <td>100087</td>\n      <td>39.9975</td>\n      <td>116.269</td>\n      <td>Eevee</td>\n      <td>66</td>\n    </tr>\n    <tr>\n      <th>2</th>\n      <td>Fawn Creek Township</td>\n      <td>Kansas</td>\n      <td>KS</td>\n      <td>US</td>\n      <td>30808</td>\n      <td>37.0902</td>\n      <td>-95.7</td>\n      <td>Charizard</td>\n      <td>88</td>\n    </tr>\n    <tr>\n      <th>3</th>\n      <td>九莲山</td>\n      <td>新乡</td>\n      <td>HN</td>\n      <td>CN</td>\n      <td>806456</td>\n      <td>35.609058</td>\n      <td>113.572193</td>\n      <td>Metagross</td>\n      <td>77</td>\n    </tr>\n    <tr>\n      <th>4</th>\n      <td>关山草原</td>\n      <td>宝鸡</td>\n      <td>SX</td>\n      <td>CN</td>\n      <td>111582</td>\n      <td>34.025982</td>\n      <td>107.232166</td>\n      <td>Cinccino</td>\n      <td>57</td>\n    </tr>\n    <tr>\n      <th>5</th>\n      <td>西安城墙</td>\n      <td>西安</td>\n      <td>SX</td>\n      <td>CN</td>\n      <td>561544</td>\n      <td>34.251854</td>\n      <td>108.948302</td>\n      <td>Necrozmadusk</td>\n      <td>27</td>\n    </tr>\n    <tr>\n      <th>6</th>\n      <td>鸡笼山</td>\n      <td>合肥</td>\n      <td>AH</td>\n      <td>CN</td>\n      <td>621060</td>\n      <td>31.776348</td>\n      <td>117.558690</td>\n      <td>Darmanitanzen</td>\n      <td>20</td>\n    </tr>\n    <tr>\n      <th>7</th>\n      <td>胡耀邦故居</td>\n      <td>长沙</td>\n      <td>HN</td>\n      <td>CN</td>\n      <td>220161</td>\n      <td>28.078068</td>\n      <td>113.886339</td>\n      <td>Mareanie</td>\n      <td>81</td>\n    </tr>\n    <tr>\n      <th>8</th>\n      <td>桑耶寺</td>\n      <td>山南</td>\n      <td>XC</td>\n      <td>CN</td>\n      <td>855011</td>\n      <td>29.325332</td>\n      <td>91.504096</td>\n      <td>Trevenant</td>\n      <td>73</td>\n    </tr>\n    <tr>\n      <th>9</th>\n      <td>京辉高尔夫俱乐部</td>\n      <td>北京</td>\n      <td>BJ</td>\n      <td>CN</td>\n      <td>129244</td>\n      <td>39.805695</td>\n      <td>116.074097</td>\n      <td>Sceptilemega</td>\n      <td>60</td>\n    </tr>\n  </tbody>\n</table>\n</div>",
      "text/plain": "           AddressLine     City AdminDivision Country PostCode   Latitude  \\\n0     Tiananmen Square  Beijing            BJ      CN   100010    39.9073   \n1        Summer Palace  Beijing            BJ      CN   100087    39.9975   \n2  Fawn Creek Township   Kansas            KS      US    30808    37.0902   \n3                  九莲山       新乡            HN      CN   806456  35.609058   \n4                 关山草原       宝鸡            SX      CN   111582  34.025982   \n5                 西安城墙       西安            SX      CN   561544  34.251854   \n6                  鸡笼山       合肥            AH      CN   621060  31.776348   \n7                胡耀邦故居       长沙            HN      CN   220161  28.078068   \n8                  桑耶寺       山南            XC      CN   855011  29.325332   \n9             京辉高尔夫俱乐部       北京            BJ      CN   129244  39.805695   \n\n    Longitude        Pokemon  Level  \n0     116.391        Pikachu     81  \n1     116.269          Eevee     66  \n2       -95.7      Charizard     88  \n3  113.572193      Metagross     77  \n4  107.232166       Cinccino     57  \n5  108.948302   Necrozmadusk     27  \n6  117.558690  Darmanitanzen     20  \n7  113.886339       Mareanie     81  \n8   91.504096      Trevenant     73  \n9  116.074097   Sceptilemega     60  "
     },
     "execution_count": 28,
     "metadata": {},
     "output_type": "execute_result"
    }
   ],
   "source": [
    "db.head(10)"
   ]
  },
  {
   "cell_type": "markdown",
   "execution_count": null,
   "metadata": {},
   "outputs": [],
   "source": [
    "最后导出到Excel文件。"
   ]
  },
  {
   "cell_type": "code",
   "execution_count": 29,
   "metadata": {},
   "outputs": [],
   "source": [
    "db.to_excel('Pokemon.xlsx', index=False)"
   ]
  },
  {
   "cell_type": "markdown",
   "execution_count": null,
   "metadata": {},
   "outputs": [],
   "source": [
    "最后打开我们保存的文件，另存为同文件名的txt格式到根目录/data目录下便完成了宝可梦数据生成的步骤。"
   ]
  }
 ]
}